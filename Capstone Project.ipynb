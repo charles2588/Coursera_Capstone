{
    "nbformat_minor": 2, 
    "cells": [
        {
            "source": "  \n    \n      \n<a id='toc'></a>\n<center><h1>The Battle of Neighborhood</font></h1>\nSegmenting and Clustering Neighborhoods of San Francisco and NYC  \nby Charles C Gomes</center>\n\n----", 
            "cell_type": "markdown", 
            "metadata": {}
        }, 
        {
            "source": "## Table of Contents\n- [Introduction](#introduction)\n- [Objectives](#objective)\n- [Data](#data)\n- [Methodology](#methodology)\n    - [Analyze San Francisco](#analyzeSF)\n    - [K-mean Cluster San Francisco](#kmeanSF)\n    - [Analyze Los Angeles](#analyzeLA)\n    - [K-mean Cluster Los Angeles](#kmeanLA)\n- [Results](#results)\n- [Discussion](#discussion)\n- [Conclusion](#conclusion)", 
            "cell_type": "markdown", 
            "metadata": {}
        }, 
        {
            "source": "<a id='introduction'></a>\n# Introduction\nSan Francisco and Los Angeles are two major cities in California. \n\nBrief information about both cities:\n- San Francisco: officially the City and County of San Francisco, is a city in, and the cultural, commercial, and financial center of, Northern California. San Francisco is the 13th-most populous city in the United States, and the fourth-most populous in California, with 883,305 residents as of 2018.\n- Los Angeles:  officially the City of Los Angeles and often known by its initials L.A., is the most populous city in California, the second most populous city in the United States, after New York City, and the third most populous city in North America. With an estimated population of nearly four million,[11] Los Angeles is the cultural, financial, and commercial center of Southern California.", 
            "cell_type": "markdown", 
            "metadata": {}
        }, 
        {
            "source": "<a id='objective'></a>\n# Objective\nIn this project, we will study in details the area classification using Foursquare data and machine learning segmentation and clustering.\nThe aim of this project is to segment areas or neighbourhood of San Francisco and Los Angeles based on the most common places captured from Foursquare. \n\nUsing segmentation and clustering, we hope we can determine:\n1. the similarity or dissimilarirty of both cities\n2. classification of area located inside the city whether it is residential, tourism places, or others", 
            "cell_type": "markdown", 
            "metadata": {}
        }, 
        {
            "source": "<a id='data'></a>\n# Data\nThe data for neighbourhoods is acquired from following sources for \nLos Angeles - https://data.lacity.org/api/views/nwj3-ufba/rows.csv?accessType=DOWNLOAD\nSan Francisco  - https://data.sfgov.org/api/views/xfcw-9evu/rows.csv?accessType=DOWNLOAD\n\nWe will utilize Foursquare data api for getting different kind of venues for segmentation and clustering.", 
            "cell_type": "markdown", 
            "metadata": {}
        }
    ], 
    "metadata": {
        "kernelspec": {
            "display_name": "Python 3.5", 
            "name": "python3", 
            "language": "python"
        }, 
        "language_info": {
            "mimetype": "text/x-python", 
            "nbconvert_exporter": "python", 
            "version": "3.5.5", 
            "name": "python", 
            "pygments_lexer": "ipython3", 
            "file_extension": ".py", 
            "codemirror_mode": {
                "version": 3, 
                "name": "ipython"
            }
        }
    }, 
    "nbformat": 4
}